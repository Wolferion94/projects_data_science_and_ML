{
 "cells": [
  {
   "cell_type": "markdown",
   "metadata": {},
   "source": [
    "# Cross Validation\n",
    "\n",
    "Con el fin obtener un mejor performance del modelo se realiza una validación Cruzada, esto con el fin de identificar que modelos pueden llegar a tener un mejor desempeño.\n",
    "\n",
    "Para esto se define una muestra base inicial, con el fin de que las validaciones puedan reproducibles con resultados iguales."
   ]
  },
  {
   "cell_type": "code",
   "execution_count": 28,
   "metadata": {},
   "outputs": [],
   "source": [
    "import warnings\n",
    "warnings.simplefilter(\"ignore\")"
   ]
  },
  {
   "cell_type": "code",
   "execution_count": 29,
   "metadata": {},
   "outputs": [],
   "source": [
    "import pandas as pd\n",
    "from sklearn.model_selection import train_test_split\n",
    "from sklearn.model_selection import cross_val_score #Libreria utilizada para hacer la validación cruzada\n",
    "from sklearn.linear_model import Lasso"
   ]
  },
  {
   "cell_type": "markdown",
   "metadata": {},
   "source": [
    "#### Se debe tener en cuenta que los datos utilizados en este script contienen las nuevas columnas obtenidas en la etapa de selection features. Adicionalmente se ha realizado una reducción en el volumen de datos esto debido a que en muchos casos se desconocia la cantidad de cines donde la pelicula se habia estrenado."
   ]
  },
  {
   "cell_type": "code",
   "execution_count": 30,
   "metadata": {},
   "outputs": [],
   "source": [
    "X = pd.read_csv(r'C:\\Scripts\\Proyectos\\Predicción_de_ingresos_peliculas\\Data\\X_opening_p.csv')\n",
    "y = X['worldwide_gross']\n",
    "X = X.drop('worldwide_gross',axis=1)"
   ]
  },
  {
   "cell_type": "code",
   "execution_count": 31,
   "metadata": {},
   "outputs": [],
   "source": [
    "X_train, X_test, y_train, y_test = train_test_split(X,y,random_state=1) #El parametro random_state define cual de los escenarios se va a llamar de forma igual siempre."
   ]
  },
  {
   "cell_type": "code",
   "execution_count": 32,
   "metadata": {},
   "outputs": [
    {
     "data": {
      "text/plain": [
       "array([0.59316596, 0.68931527, 0.55383855, 0.18147236, 0.23040894])"
      ]
     },
     "execution_count": 32,
     "metadata": {},
     "output_type": "execute_result"
    }
   ],
   "source": [
    "scores = cross_val_score(Lasso(),X,y,cv=5,scoring='r2') #En la configuración de la función se define la cantidad de veces que queremos dividir los datos así como la medida que se quiere estimar, en este caso r2.\n",
    "scores"
   ]
  },
  {
   "cell_type": "code",
   "execution_count": 33,
   "metadata": {},
   "outputs": [
    {
     "data": {
      "text/plain": [
       "0.44964021745791716"
      ]
     },
     "execution_count": 33,
     "metadata": {},
     "output_type": "execute_result"
    }
   ],
   "source": [
    "scores.mean()"
   ]
  },
  {
   "cell_type": "markdown",
   "metadata": {},
   "source": [
    "De esto se obtiene un score promedio de 0.44, de esto se procede a comparar con el error generado por el metodo tradicional."
   ]
  },
  {
   "cell_type": "code",
   "execution_count": 35,
   "metadata": {},
   "outputs": [
    {
     "data": {
      "text/plain": [
       "0.7926190294963362"
      ]
     },
     "execution_count": 35,
     "metadata": {},
     "output_type": "execute_result"
    }
   ],
   "source": [
    "Lasso().fit(X_train,y_train).score(X_test,y_test)"
   ]
  },
  {
   "cell_type": "markdown",
   "metadata": {},
   "source": [
    "De esto se establece que el Score robusto para el modelo sera de 0.4496 y el score convencional sera de 0.7926"
   ]
  }
 ],
 "metadata": {
  "interpreter": {
   "hash": "254a36b2ded2ec0052557e1072ee5d46a42183376817ac4da89ec7f3b2df0eb5"
  },
  "kernelspec": {
   "display_name": "Python 3.8.8 64-bit ('base': conda)",
   "name": "python3"
  },
  "language_info": {
   "codemirror_mode": {
    "name": "ipython",
    "version": 3
   },
   "file_extension": ".py",
   "mimetype": "text/x-python",
   "name": "python",
   "nbconvert_exporter": "python",
   "pygments_lexer": "ipython3",
   "version": "3.8.8"
  },
  "orig_nbformat": 4
 },
 "nbformat": 4,
 "nbformat_minor": 2
}
