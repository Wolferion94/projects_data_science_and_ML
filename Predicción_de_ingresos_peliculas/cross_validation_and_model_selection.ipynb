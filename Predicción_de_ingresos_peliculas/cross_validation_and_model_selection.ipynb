{
 "cells": [
  {
   "cell_type": "markdown",
   "metadata": {},
   "source": [
    "# Cross Validation\n",
    "\n",
    "Con el fin obtener un mejor performance del modelo se realiza una validación Cruzada, esto con el fin de identificar que modelos pueden llegar a tener un mejor desempeño.\n",
    "\n",
    "Para esto se define una muestra base inicial, con el fin de que las validaciones puedan reproducibles con resultados iguales."
   ]
  },
  {
   "cell_type": "code",
   "execution_count": 2,
   "metadata": {},
   "outputs": [],
   "source": [
    "import warnings\n",
    "warnings.simplefilter(\"ignore\")"
   ]
  },
  {
   "cell_type": "code",
   "execution_count": 26,
   "metadata": {},
   "outputs": [],
   "source": [
    "import pandas as pd\n",
    "import numpy as np\n",
    "from sklearn.model_selection import train_test_split\n",
    "from sklearn.model_selection import cross_val_score #Libreria utilizada para hacer la validación cruzada\n",
    "from sklearn.linear_model import Lasso\n",
    "from sklearn.model_selection import cross_validate #Esta libreria otorga mas información sobre el comportamiento del modelo\n",
    "from sklearn.neighbors import KNeighborsRegressor #Modelo a probar con los datos\n",
    "from sklearn.model_selection import validation_curve #Funcion para generar la curva de validación\n",
    "import matplotlib.pyplot as plt\n",
    "%matplotlib inline\n",
    "from sklearn.model_selection import learning_curve #Modelo para cronstruir la curva de aprendizaje"
   ]
  },
  {
   "cell_type": "markdown",
   "metadata": {},
   "source": [
    "#### Se debe tener en cuenta que los datos utilizados en este script contienen las nuevas columnas obtenidas en la etapa de selection features. Adicionalmente se ha realizado una reducción en el volumen de datos esto debido a que en muchos casos se desconocia la cantidad de cines donde la pelicula se habia estrenado."
   ]
  },
  {
   "cell_type": "code",
   "execution_count": 4,
   "metadata": {},
   "outputs": [],
   "source": [
    "X = pd.read_csv(r'C:\\Scripts\\Proyectos\\Predicción_de_ingresos_peliculas\\Data\\X_opening_p.csv')\n",
    "y = X['worldwide_gross']\n",
    "X = X.drop('worldwide_gross',axis=1)"
   ]
  },
  {
   "cell_type": "code",
   "execution_count": 5,
   "metadata": {},
   "outputs": [],
   "source": [
    "X_train, X_test, y_train, y_test = train_test_split(X,y,random_state=1) #El parametro random_state define cual de los escenarios se va a llamar de forma igual siempre."
   ]
  },
  {
   "cell_type": "code",
   "execution_count": 6,
   "metadata": {},
   "outputs": [
    {
     "data": {
      "text/plain": [
       "array([0.59316596, 0.68931527, 0.55383855, 0.18147236, 0.23040894])"
      ]
     },
     "execution_count": 6,
     "metadata": {},
     "output_type": "execute_result"
    }
   ],
   "source": [
    "scores = cross_val_score(Lasso(),X,y,cv=5,scoring='r2') #En la configuración de la función se define la cantidad de veces que queremos dividir los datos así como la medida que se quiere estimar, en este caso r2.\n",
    "scores"
   ]
  },
  {
   "cell_type": "code",
   "execution_count": 7,
   "metadata": {},
   "outputs": [
    {
     "data": {
      "text/plain": [
       "0.44964021745791716"
      ]
     },
     "execution_count": 7,
     "metadata": {},
     "output_type": "execute_result"
    }
   ],
   "source": [
    "scores.mean()"
   ]
  },
  {
   "cell_type": "markdown",
   "metadata": {},
   "source": [
    "De esto se obtiene un score promedio de 0.44, de esto se procede a comparar con el error generado por el metodo tradicional."
   ]
  },
  {
   "cell_type": "code",
   "execution_count": 8,
   "metadata": {},
   "outputs": [
    {
     "data": {
      "text/plain": [
       "0.7926190294963362"
      ]
     },
     "execution_count": 8,
     "metadata": {},
     "output_type": "execute_result"
    }
   ],
   "source": [
    "Lasso().fit(X_train,y_train).score(X_test,y_test)"
   ]
  },
  {
   "cell_type": "markdown",
   "metadata": {},
   "source": [
    "De esto se establece que el Score robusto para el modelo sera de 0.4496 y el score convencional sera de 0.7926"
   ]
  },
  {
   "cell_type": "markdown",
   "metadata": {},
   "source": [
    "# Model Selection\n",
    "\n",
    "En esta etapa del modelo se evaluara si el modelo de Lasso que se trato de aplicar inicialmente es insuficiente o esta generando algún problema de overfiting o underfiting que este interviniendo en la performance del modelo."
   ]
  },
  {
   "cell_type": "code",
   "execution_count": 9,
   "metadata": {},
   "outputs": [
    {
     "data": {
      "text/plain": [
       "{'fit_time': array([0.00999045, 0.02797914, 0.02998257, 0.02698231, 0.01898909]),\n",
       " 'score_time': array([0.0039978 , 0.00399947, 0.00299644, 0.00299883, 0.00199795]),\n",
       " 'test_score': array([0.59316596, 0.68931527, 0.55383855, 0.18147236, 0.23040894]),\n",
       " 'train_score': array([0.68988012, 0.77004932, 0.76604995, 0.76123379, 0.75837599])}"
      ]
     },
     "execution_count": 9,
     "metadata": {},
     "output_type": "execute_result"
    }
   ],
   "source": [
    "results = cross_validate(Lasso(),X,y,return_train_score=True,cv=5)\n",
    "results"
   ]
  },
  {
   "cell_type": "code",
   "execution_count": 15,
   "metadata": {},
   "outputs": [
    {
     "name": "stdout",
     "output_type": "stream",
     "text": [
      "0.7491178363039036\n",
      "0.44964021745791716\n"
     ]
    }
   ],
   "source": [
    "test_scores = results['test_score']\n",
    "train_scores = results['train_score']\n",
    "print(np.mean(train_scores))\n",
    "print(np.mean(test_scores))"
   ]
  },
  {
   "cell_type": "markdown",
   "metadata": {},
   "source": [
    "Con esta validación se determina que hay una diferencia importante entre los scores de entrenamiento y prueba, lo que indica una varianza alta. Adicionalmente, se detecta que el score en los datos de prueba deberia ser más alto a pesar de que un 0.74 no es malo, de esto se determina que posiblemente el modelo presente un sesgo lo que se traduce a que el modelo no se esta encajando de la forma deseada con los datos."
   ]
  },
  {
   "cell_type": "markdown",
   "metadata": {},
   "source": [
    "Debido a esto se procede a probar con un modelo que se cree que pueda llegar a tener un mejor performance con los datos. El modelo seleccionado es **KNeighbors**. Adicionalmente se escoje este modelo con el fin de poder ver la curva de validación y una de aprendizaje."
   ]
  },
  {
   "cell_type": "code",
   "execution_count": 17,
   "metadata": {},
   "outputs": [
    {
     "data": {
      "text/plain": [
       "{'fit_time': array([0.01698709, 0.00699401, 0.00699472, 0.00899482, 0.00799513]),\n",
       " 'score_time': array([0.00799727, 0.00599647, 0.00699496, 0.00799465, 0.00999427]),\n",
       " 'test_score': array([0.3647382 , 0.59274527, 0.21545625, 0.15143495, 0.25635077])}"
      ]
     },
     "execution_count": 17,
     "metadata": {},
     "output_type": "execute_result"
    }
   ],
   "source": [
    "cross_validate(KNeighborsRegressor(), X, y, cv=5) #En este caso no se determina el número de vecinos en 5 de forma predeterminada."
   ]
  },
  {
   "cell_type": "code",
   "execution_count": 19,
   "metadata": {},
   "outputs": [
    {
     "data": {
      "text/plain": [
       "{'fit_time': array([0.01099157, 0.01598859, 0.01299024, 0.01098967, 0.01898813]),\n",
       " 'score_time': array([0.0089972 , 0.01299429, 0.0099988 , 0.00999451, 0.01599288]),\n",
       " 'test_score': array([0.23553954, 0.61921355, 0.24881301, 0.1209604 , 0.2466995 ])}"
      ]
     },
     "execution_count": 19,
     "metadata": {},
     "output_type": "execute_result"
    }
   ],
   "source": [
    "cross_validate(KNeighborsRegressor(n_neighbors=10), X, y, cv=5) #En este caso no se determina el número de vecinos en 10 para evaluar el performance del modelo."
   ]
  },
  {
   "cell_type": "markdown",
   "metadata": {},
   "source": [
    "Debido a los datos obtenidos se estima la curva de validación"
   ]
  },
  {
   "cell_type": "code",
   "execution_count": 23,
   "metadata": {},
   "outputs": [],
   "source": [
    "n = np.arange(2,50,2) #Este n hace referencia a la cantidad de vecinos que se van a obtener.\n",
    "train_scores,test_scores = validation_curve(KNeighborsRegressor(),X,y,param_name='n_neighbors',param_range=n,cv=5) #Es importante saber que se debe establecer el parametro que se va a variar en este caso n_neigbors"
   ]
  },
  {
   "cell_type": "code",
   "execution_count": 22,
   "metadata": {},
   "outputs": [
    {
     "data": {
      "text/plain": [
       "array([0.86831591, 0.79120817, 0.7593398 , 0.7498298 , 0.74238245,\n",
       "       0.73284018, 0.72586058, 0.71779833, 0.71281982, 0.70976325,\n",
       "       0.70723469, 0.70502429, 0.70174649, 0.69741543, 0.69379214,\n",
       "       0.69163113, 0.68955146, 0.6862285 , 0.68321376, 0.68018032,\n",
       "       0.67885534, 0.67522056, 0.67135123, 0.66953759])"
      ]
     },
     "execution_count": 22,
     "metadata": {},
     "output_type": "execute_result"
    }
   ],
   "source": [
    "np.mean(train_scores,axis=1)"
   ]
  },
  {
   "cell_type": "code",
   "execution_count": 25,
   "metadata": {},
   "outputs": [
    {
     "data": {
      "image/png": "[encoded data removed]",
      "text/plain": [
       "<Figure size 432x288 with 1 Axes>"
      ]
     },
     "metadata": {
      "needs_background": "light"
     },
     "output_type": "display_data"
    }
   ],
   "source": [
    "plt.plot(np.mean(train_scores,axis=1))\n",
    "plt.plot(np.mean(test_scores,axis=1))\n",
    "plt.xticks(np.arange(24),n);"
   ]
  },
  {
   "cell_type": "markdown",
   "metadata": {},
   "source": [
    "De las curvas de validación se concluye que se sigue presentando un sesgo importante a pesar del cambio del modelo, por lo cual se requiere hacer algunas optimizaciones adicionales.\n",
    "\n",
    "**Nota:** Lo que se busca es obtener el maximo valor de la curva de test, esto con el fin de saber cual es el mejor parametro, sin embargo para este caso no fue optimo.\n",
    "\n",
    "De forma complementaria se valida la curva de aprendizaje para validar si la cantidad de datos es suficiente o se deben agregar mas datos al modelo."
   ]
  },
  {
   "cell_type": "code",
   "execution_count": 29,
   "metadata": {},
   "outputs": [],
   "source": [
    "lcurve = learning_curve(KNeighborsRegressor(n_neighbors=6),X,y,cv=5) #A la función se le entregan los n así como la cantidad de divisiones.\n",
    "#El 6 se escoje de los resultados de la curva de validación\n",
    "\n",
    "samples,train,test = lcurve[0], lcurve[1],lcurve[2]"
   ]
  },
  {
   "cell_type": "code",
   "execution_count": 28,
   "metadata": {},
   "outputs": [
    {
     "data": {
      "text/plain": [
       "[<matplotlib.lines.Line2D at 0x2359320bd90>]"
      ]
     },
     "execution_count": 28,
     "metadata": {},
     "output_type": "execute_result"
    },
    {
     "data": {
      "image/png": "[encoded data removed]",
      "text/plain": [
       "<Figure size 432x288 with 1 Axes>"
      ]
     },
     "metadata": {
      "needs_background": "light"
     },
     "output_type": "display_data"
    }
   ],
   "source": [
    "plt.plot(samples[1:],np.mean(train,axis=1)[1:])\n",
    "plt.plot(samples[1:],np.mean(test,axis=1)[1:])"
   ]
  },
  {
   "cell_type": "markdown",
   "metadata": {},
   "source": [
    "De esto se determina que si bien el modelo esta aprendiendo adecuadamente con los datos entregados, la cantidad de estos hasta el momento es insuficiente para que el modelo tenga el aprendizaje deseado."
   ]
  },
  {
   "cell_type": "code",
   "execution_count": null,
   "metadata": {},
   "outputs": [],
   "source": []
  }
 ],
 "metadata": {
  "interpreter": {
   "hash": "254a36b2ded2ec0052557e1072ee5d46a42183376817ac4da89ec7f3b2df0eb5"
  },
  "kernelspec": {
   "display_name": "Python 3.8.8 64-bit ('base': conda)",
   "name": "python3"
  },
  "language_info": {
   "codemirror_mode": {
    "name": "ipython",
    "version": 3
   },
   "file_extension": ".py",
   "mimetype": "text/x-python",
   "name": "python",
   "nbconvert_exporter": "python",
   "pygments_lexer": "ipython3",
   "version": "3.8.8"
  },
  "orig_nbformat": 4
 },
 "nbformat": 4,
 "nbformat_minor": 2
}
